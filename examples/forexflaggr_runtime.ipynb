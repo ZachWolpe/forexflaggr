{
 "cells": [
  {
   "attachments": {},
   "cell_type": "markdown",
   "metadata": {},
   "source": [
    "# ForexFlaggr\n",
    "\n",
    "ForexFlaggr is a minimal package to pull and analyze financial (forex) data. The objective is to make informed decisions about when to exchange currencies when traveling.\n",
    "\n",
    "Forexflaggr does not provide any financial advice.\n",
    "\n",
    "\n",
    "---\n",
    "```\n",
    ": 18.11.23\n",
    ": zach wolpe\n",
    ": zach.wolpe@mlxgo.com\n",
    "```\n",
    "---"
   ]
  },
  {
   "cell_type": "markdown",
   "metadata": {},
   "source": [
    "## Installation\n",
    "\n",
    "\n",
    "Install the latest version of forexflaggr with pip:\n",
    "\n",
    "```bash\n",
    "pip install forexflaggr\n",
    "```\n",
    "\n",
    "or directly from the source code:\n",
    "\n",
    "```bash\n",
    "pip install git+https://github.com/ZachWolpe/forexflaggr.git\n",
    "```\n",
    "\n",
    "If the API fails to return data unexpectedly, it may be due to the _yahoo finance_ cache. Empty the cache with:\n",
    "\n",
    "```bash\n",
    "pip install yfinance --upgrade --no-cache-dir \n",
    "```"
   ]
  },
  {
   "cell_type": "code",
   "execution_count": null,
   "metadata": {},
   "outputs": [],
   "source": [
    "import forexflaggr as fxr\n",
    "import warnings\n",
    "warnings.filterwarnings('ignore')"
   ]
  },
  {
   "cell_type": "markdown",
   "metadata": {},
   "source": [
    "----\n",
    "## Fetch Data\n",
    "\n",
    "Fetch $500$ days of\n",
    "\n",
    "- USD/ZAR data ($USDZAR=X$).\n",
    "- 13 week US Treasury Bills data ($\\^IRX$).\n",
    "\n",
    "\n",
    "Plot the data & (weighted) moving averages. Save the plots to `/output/<plot-name>.html`\n",
    "\n"
   ]
  },
  {
   "cell_type": "code",
   "execution_count": null,
   "metadata": {},
   "outputs": [],
   "source": [
    "# Parameters ----------------------------------------------------------->>\n",
    "_n_days     = 500\n",
    "_MA_periods = int(12*14) # 2 weeks (1 sample/hour * 14 days)\n",
    "# Parameters ----------------------------------------------------------->>\n",
    "\n",
    "\n",
    "ff = fxr.ForexFlaggr()\n",
    "ff\\\n",
    "    .fetch_data(stock='USDZAR=X', n_days=_n_days)\\\n",
    "    .plot_signal(MA_periods=_MA_periods)\n",
    "ff.fig.show()\n",
    "\n",
    "fi = fxr.ForexFlaggr()\n",
    "fi\\\n",
    "    .fetch_data(stock='^IRX', n_days=_n_days)\\\n",
    "    .plot_signal(MA_periods=_MA_periods)\n",
    "fi.fig.show()\n",
    "\n",
    "\n",
    "# save plots as html\n",
    "ff.fig.write_html(\"output/usdzar.html\")\n",
    "fi.fig.write_html(\"output/UStreasury.html\")\n",
    "\n",
    "# save plots as jpeg\n",
    "ff.fig.write_image(\"output/usdzar.jpeg\")\n",
    "fi.fig.write_image(\"output/UStreasury.jpeg\")\n"
   ]
  },
  {
   "cell_type": "markdown",
   "metadata": {},
   "source": [
    "---\n",
    "## Price Momentum\n",
    "---\n",
    "\n",
    "First we wish to use the assets momentum to determine when to buy and sell.\n",
    "\n",
    "Examining the assets movement with respect to it's (weighted) moving average can indicate whether or not it's due a correction.\n",
    "\n",
    "Model Fitting\n",
    "\n",
    "- https://www.projectpro.io/article/how-to-build-arima-model-in-python/544#mcetoc_1fp23v670h\n",
    "- https://www.projectpro.io/article/how-to-build-arima-model-in-python/544\n",
    "- https://pygam.readthedocs.io/en/latest/notebooks/tour_of_pygam.html\n",
    "- https://machinelearningmastery.com/arima-for-time-series-forecasting-with-python/\n"
   ]
  },
  {
   "cell_type": "code",
   "execution_count": null,
   "metadata": {},
   "outputs": [],
   "source": [
    "fxr"
   ]
  },
  {
   "cell_type": "code",
   "execution_count": null,
   "metadata": {},
   "outputs": [],
   "source": []
  },
  {
   "cell_type": "code",
   "execution_count": null,
   "metadata": {},
   "outputs": [],
   "source": []
  },
  {
   "cell_type": "code",
   "execution_count": null,
   "metadata": {},
   "outputs": [],
   "source": [
    "from mpl_toolkits import mplot3d\n",
    "\n",
    "# yt download us interest rates (13 WEEK TREASURY BILL)\n",
    "# yf.download('^IRX', '2019-01-01', '2021-01-01', interval='1d')\n",
    "\n",
    "fi = FOREX_FLAGGR()\n",
    "fi.fetch_data(stock='^IRX', n_days=10).plot_signal(MA_periods=int(30*2))\n",
    "fi.fig.show()\n",
    "\n"
   ]
  },
  {
   "cell_type": "code",
   "execution_count": null,
   "metadata": {},
   "outputs": [],
   "source": [
    "\n",
    "import numpy as np\n",
    "import plotly.graph_objects as go\n",
    "# generate grid of points over feature space\n",
    "X1 = fi.data.Close.values\n",
    "X2 = ff.data.Close.values\n",
    "Z = np.meshgrid(X1, X2)\n",
    "# Z = np.array(Z).reshape(-1,2)\n",
    "np.array(Z).shape, np.shape(X1), np.shape(X2)\n",
    "\n",
    "\n",
    "\n",
    "# fig = go.Figure()\n",
    "# fig.add_trace(go.Surface(x=X1, y=X2, z=Z))\n",
    "\n",
    "fig = go.Figure(data=[go.Surface(z=Z, x=X1, y=X1)])\n",
    "\n",
    "\n",
    "# fig.update_layout(title='Mt Bruno Elevation', autosize=False,\n",
    "#                 #   width=500, height=500,\n",
    "#                 #   margin=dict(l=65, r=50, b=65, t=90)\n",
    "#                   )\n",
    "\n",
    "fig.show()"
   ]
  },
  {
   "cell_type": "code",
   "execution_count": null,
   "metadata": {},
   "outputs": [],
   "source": [
    "Z"
   ]
  },
  {
   "cell_type": "markdown",
   "metadata": {},
   "source": []
  },
  {
   "cell_type": "code",
   "execution_count": null,
   "metadata": {},
   "outputs": [],
   "source": [
    "\n",
    "\n",
    "# fit loess model\n",
    "\n",
    "# Imports\n",
    "import matplotlib.pyplot as plt\n",
    "from moepy import lowess\n",
    "import numpy as np\n",
    "\n",
    "def fit_loess(x,y,x_pred=None):\n",
    "    # Model fitting\n",
    "    lowess_model = lowess.Lowess()\n",
    "    lowess_model.fit(x, y)  \n",
    "    \n",
    "    # Model prediction\n",
    "    if x_pred is None:\n",
    "       x_pred = x\n",
    "    y_pred = lowess_model.predict(x_pred)\n",
    "\n",
    "    return lowess_model, x, y, x_pred, y_pred\n",
    "\n",
    "model_data = ff.data.reset_index()\n",
    "model_data = model_data.iloc[20:,:]\n",
    "\n",
    "# fit\n",
    "lowess_model, x, y, x_pred, y_pred = fit_loess(\n",
    "    x=np.array(model_data.index),\n",
    "    y=np.array(model_data.Close)\n",
    ")\n"
   ]
  },
  {
   "cell_type": "code",
   "execution_count": null,
   "metadata": {},
   "outputs": [],
   "source": [
    "\n",
    "\n",
    "\n",
    "c1 = 'pink'\n",
    "c2 = 'steelblue'\n",
    "\n",
    "fig = go.Figure()\n",
    "fig.add_trace(go.Scatter(x=model_data.Datetime, y=model_data.Close, name='USD/ZAR', line=dict(color=c1)))\n",
    "fig.add_trace(go.Scatter(x=model_data.Datetime, y=y_pred, name='LOWESS', line=dict(color=c2)))\n",
    "fig.update_layout(template='none', title='USD/ZAR', yaxis_title='Exchange Rate', xaxis_title='Date')\n",
    "fig.show()\n",
    "\n",
    "\n",
    "c1 = 'orange'\n",
    "c2 = 'black'\n",
    "\n",
    "fig = go.Figure()\n",
    "fig.add_trace(go.Scatter(x=model_data.index, y=model_data.Close, name='USD/ZAR', line=dict(color=c1)))\n",
    "fig.add_trace(go.Scatter(x=model_data.index, y=y_pred, name='LOWESS', line=dict(color=c2)))\n",
    "fig.update_layout(template='none', title='USD/ZAR', yaxis_title='Exchange Rate', xaxis_title='Date')\n",
    "fig.show()\n",
    "\n",
    "\n"
   ]
  },
  {
   "cell_type": "markdown",
   "metadata": {},
   "source": [
    "# GAMS\n",
    "\n",
    "[pyGAM](https://pygam.readthedocs.io/en/latest/notebooks/tour_of_pygam.html#Regression)"
   ]
  },
  {
   "cell_type": "code",
   "execution_count": null,
   "metadata": {},
   "outputs": [],
   "source": []
  },
  {
   "cell_type": "code",
   "execution_count": null,
   "metadata": {},
   "outputs": [],
   "source": [
    "x = 'qwetwl'\n",
    "print(f'{x:^10}...')\n",
    "# change side of space\n",
    "print(f'{x:<10}...')\n",
    "print(f'{x:>10}...')\n"
   ]
  },
  {
   "cell_type": "markdown",
   "metadata": {},
   "source": [
    "# Model Interface API"
   ]
  },
  {
   "cell_type": "code",
   "execution_count": null,
   "metadata": {},
   "outputs": [],
   "source": []
  },
  {
   "cell_type": "code",
   "execution_count": null,
   "metadata": {},
   "outputs": [],
   "source": []
  },
  {
   "cell_type": "code",
   "execution_count": null,
   "metadata": {},
   "outputs": [],
   "source": [
    "model_data = ff.data.reset_index()\n",
    "model_data = model_data.iloc[20:,:]\n",
    "\n",
    "X, y = np.array(model_data.index), np.array(model_data.Close)\n",
    "loess_model = LOESS_Model(X, y)\n",
    "loess_model.build().plot_prediction().fig.show()"
   ]
  },
  {
   "cell_type": "code",
   "execution_count": null,
   "metadata": {},
   "outputs": [],
   "source": [
    "loess_model.plot_prediction(template='plotly_dark').fig.show()"
   ]
  },
  {
   "cell_type": "code",
   "execution_count": null,
   "metadata": {},
   "outputs": [],
   "source": []
  },
  {
   "cell_type": "code",
   "execution_count": null,
   "metadata": {},
   "outputs": [],
   "source": [
    "\n",
    "\n",
    "# gam = GAM_Model(X,y)\n",
    "# gam.fit()\\\n",
    "#     .transform()\\\n",
    "#     .extrapolate(n_steps=500)\\\n",
    "#     .plot_prediction()\n",
    "\n",
    "X,y = list(model_data.index), model_data.Close\n",
    "X,y = np.reshape(X, (-1, 1)), np.reshape(y.values, (-1, 1))\n",
    "gam = GAM_Model(X,y)\n",
    "gam.build()"
   ]
  },
  {
   "cell_type": "code",
   "execution_count": null,
   "metadata": {},
   "outputs": [],
   "source": [
    "# https://www.projectpro.io/article/how-to-build-arima-model-in-python/544#mcetoc_1fp23v670h\n",
    "# https://www.statsmodels.org/stable/generated/statsmodels.tsa.arima.model.ARIMA.predict.html#statsmodels.tsa.arima.model.ARIMA.predict"
   ]
  },
  {
   "cell_type": "code",
   "execution_count": null,
   "metadata": {},
   "outputs": [],
   "source": [
    "from pandas.plotting import autocorrelation_plot\n",
    "# autocorrelation_plot(ff.df_all.Close)\n",
    "from statsmodels.tsa.arima.model import ARIMA\n",
    "\n",
    "from statsmodels.graphics.tsaplots import plot_acf, plot_pacf\n",
    "plot_acf(ff.df_all.Close)"
   ]
  },
  {
   "cell_type": "code",
   "execution_count": null,
   "metadata": {},
   "outputs": [],
   "source": [
    "arima_model = ARIMA(ff.df_all.Close, order=(2,0,0))\n",
    "model = arima_model.fit()\n",
    "print(model.summary())\n",
    "\n",
    "yhat = model.predict()\n",
    "fig = go.Figure()\n",
    "fig.add_trace(go.Scatter(x=ff.df_all.index, y=ff.df_all.Close, name='USD/ZAR'))\n",
    "fig.add_trace(go.Scatter(x=ff.df_all.index, y=yhat, name='ARIMA'))"
   ]
  },
  {
   "cell_type": "code",
   "execution_count": null,
   "metadata": {},
   "outputs": [],
   "source": [
    "ff.df_all.Close"
   ]
  },
  {
   "cell_type": "code",
   "execution_count": null,
   "metadata": {},
   "outputs": [],
   "source": []
  },
  {
   "cell_type": "code",
   "execution_count": null,
   "metadata": {},
   "outputs": [],
   "source": [
    "x = np.linspace(0, model_data.shape[0], num=model_data.shape[0])\n",
    "y = np.array(model_data.Close)\n",
    "\n",
    "px.line(x=x, y=y)"
   ]
  },
  {
   "cell_type": "code",
   "execution_count": null,
   "metadata": {},
   "outputs": [],
   "source": []
  },
  {
   "cell_type": "markdown",
   "metadata": {},
   "source": [
    "----\n",
    "# Deprecated.\n",
    "---"
   ]
  },
  {
   "cell_type": "code",
   "execution_count": null,
   "metadata": {},
   "outputs": [],
   "source": [
    "url = \"https://marketdata.tradermade.com/api/v1/live\"\n",
    "\n",
    "currency    = \"USDJPY,GBPUSD,UK100\"\n",
    "api_key     = \"api_key\"\n",
    "querystring = {\"currency\":currency,\"api_key\":api_key}\n",
    "response    = requests.get(url, params=querystring)\n",
    "\n",
    "pp.pprint(response.json())"
   ]
  },
  {
   "cell_type": "code",
   "execution_count": null,
   "metadata": {},
   "outputs": [],
   "source": [
    "# get nasdaq data\n",
    "nasdaq = quandl.get(\"NASDAQOMX/COMP-NASDAQ\")\n",
    "\n",
    "# get s&p 500 data\n",
    "sp500 = quandl.get(\"YAHOO/INDEX_GSPC\")\n",
    "\n",
    "# get dow jones data\n",
    "dowjones = quandl.get(\"BCB/UDJIAD1\")\n",
    "\n",
    "# get UK FTSE 100 data\n",
    "ftse100 = quandl.get(\"CHRIS/LIFFE_Z1\")\n",
    "\n",
    "# get crude oil data\n",
    "crude_oil = quandl.get(\"CHRIS/ICE_B1\")\n",
    "\n",
    "# get gold data\n",
    "gold = quandl.get(\"LBMA/GOLD\")\n",
    "\n",
    "# get silver data\n",
    "silver = quandl.get(\"LBMA/SILVER\")\n",
    "\n",
    "# get copper data\n",
    "copper = quandl.get(\"CHRIS/CME_HG1\")\n",
    "\n",
    "# get Satrix 40 data\n",
    "satrix40 = quandl.get(\"YAHOO/INDEX_J203\")\n",
    "\n",
    "# get SA All Share data\n",
    "sa_all_share = quandl.get(\"YAHOO/INDEX_J203\")"
   ]
  },
  {
   "cell_type": "code",
   "execution_count": null,
   "metadata": {},
   "outputs": [],
   "source": [
    "from pandas_datareader import data\n",
    "import matplotlib.pyplot as plt\n",
    "import pandas as pd\n",
    "\n",
    "# Define the instruments to download. We would like to see Apple, Microsoft and the S&P500 index.\n",
    "tickers = ['AAPL', 'MSFT', '^GSPC', '^FTSE']\n",
    "\n",
    "# additi\n",
    "\n",
    "# We would like all available data from 01/01/2000 until 12/31/2016.\n",
    "start_date = '2010-01-01'\n",
    "end_date   = '2023-06-01'\n",
    "\n",
    "# User pandas_reader.data.DataReader to load the desired data. As simple as that.\n",
    "panel_data = data.DataReader('GE', 'yahoo', start_date, end_date)"
   ]
  },
  {
   "cell_type": "code",
   "execution_count": null,
   "metadata": {},
   "outputs": [],
   "source": [
    "data.DataReader"
   ]
  },
  {
   "cell_type": "code",
   "execution_count": null,
   "metadata": {},
   "outputs": [],
   "source": [
    "!pip install health"
   ]
  },
  {
   "cell_type": "code",
   "execution_count": null,
   "metadata": {},
   "outputs": [],
   "source": [
    "from health import HealthData\n",
    "\n",
    "FILE = \"./export/export.xml\"\n",
    "data = HealthData.read(\n",
    "    FILE,\n",
    "    include_me=True,\n",
    "    include_activity_summaries=True,\n",
    "    include_correlations=False,\n",
    "    include_records=False,\n",
    "    include_workouts=True,\n",
    ")\n",
    "\n",
    "print(data.me.biological_sex)\n",
    "print(f\"{len(data.activity_summaries)} activity records\")\n",
    "print(f\"{len(data.correlations)} correlations\")\n",
    "print(f\"{len(data.records)} records\")\n",
    "print(f\"{len(data.workouts)} workouts\")"
   ]
  },
  {
   "cell_type": "code",
   "execution_count": null,
   "metadata": {},
   "outputs": [],
   "source": [
    "# fit loess model\n",
    "\n",
    "\n",
    "def fit_loess(x,y,x_pred=None):\n",
    "    # Model fitting\n",
    "    lowess_model = lowess.Lowess()\n",
    "    lowess_model.fit(x, y)  \n",
    "    \n",
    "    # Model prediction\n",
    "    if x_pred is None:\n",
    "       x_pred = x\n",
    "    y_pred = lowess_model.predict(x_pred)\n",
    "\n",
    "    return lowess_model, x, y, x_pred, y_pred\n",
    "\n",
    "model_data = ff.data.reset_index()\n",
    "model_data = model_data.iloc[20:,:]\n",
    "\n",
    "# fit\n",
    "lowess_model, x, y, x_pred, y_pred = fit_loess(\n",
    "    x=np.array(model_data.index),\n",
    "    y=np.array(model_data.Close)\n",
    ")\n",
    "\n",
    "\n",
    "\n",
    "\n",
    "\n",
    "c1 = 'pink'\n",
    "c2 = 'steelblue'\n",
    "\n",
    "fig = go.Figure()\n",
    "fig.add_trace(go.Scatter(x=model_data.Datetime, y=model_data.Close, name='USD/ZAR', line=dict(color=c1)))\n",
    "fig.add_trace(go.Scatter(x=model_data.Datetime, y=y_pred, name='LOWESS', line=dict(color=c2)))\n",
    "fig.update_layout(template='none', title='USD/ZAR', yaxis_title='Exchange Rate', xaxis_title='Date')\n",
    "fig.show()\n",
    "\n",
    "\n",
    "c1 = 'orange'\n",
    "c2 = 'black'\n",
    "\n",
    "fig = go.Figure()\n",
    "fig.add_trace(go.Scatter(x=model_data.index, y=model_data.Close, name='USD/ZAR', line=dict(color=c1)))\n",
    "fig.add_trace(go.Scatter(x=model_data.index, y=y_pred, name='LOWESS', line=dict(color=c2)))\n",
    "fig.update_layout(template='none', title='USD/ZAR', yaxis_title='Exchange Rate', xaxis_title='Date')\n",
    "fig.show()\n",
    "\n",
    "\n"
   ]
  }
 ],
 "metadata": {
  "kernelspec": {
   "display_name": "base",
   "language": "python",
   "name": "python3"
  },
  "language_info": {
   "codemirror_mode": {
    "name": "ipython",
    "version": 3
   },
   "file_extension": ".py",
   "mimetype": "text/x-python",
   "name": "python",
   "nbconvert_exporter": "python",
   "pygments_lexer": "ipython3",
   "version": "3.12.0"
  },
  "orig_nbformat": 4
 },
 "nbformat": 4,
 "nbformat_minor": 2
}
